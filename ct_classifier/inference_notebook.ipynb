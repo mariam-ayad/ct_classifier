{
 "cells": [
  {
   "cell_type": "code",
   "execution_count": 1,
   "metadata": {},
   "outputs": [],
   "source": [
    "import torch\n",
    "import os\n",
    "import rasterio\n",
    "import yaml\n",
    "from train import create_dataloader\n",
    "import numpy as np\n",
    "import matplotlib.pyplot as plt\n",
    "from model import CustomResNet18\n",
    "from torch.nn.functional import softmax\n",
    "import pandas as pd\n"
   ]
  },
  {
   "cell_type": "code",
   "execution_count": 49,
   "metadata": {},
   "outputs": [
    {
     "name": "stderr",
     "output_type": "stream",
     "text": [
      "/home/Mariam/miniconda3/envs/coral/lib/python3.10/site-packages/torchvision/models/_utils.py:208: UserWarning: The parameter 'pretrained' is deprecated since 0.13 and may be removed in the future, please use 'weights' instead.\n",
      "  warnings.warn(\n",
      "/home/Mariam/miniconda3/envs/coral/lib/python3.10/site-packages/torchvision/models/_utils.py:223: UserWarning: Arguments other than a weight enum or `None` for 'weights' are deprecated since 0.13 and may be removed in the future. The current behavior is equivalent to passing `weights=ResNet18_Weights.IMAGENET1K_V1`. You can also use `weights=ResNet18_Weights.DEFAULT` to get the most up-to-date weights.\n",
      "  warnings.warn(msg)\n",
      "/tmp/ipykernel_364939/1155033635.py:9: FutureWarning: You are using `torch.load` with `weights_only=False` (the current default value), which uses the default pickle module implicitly. It is possible to construct malicious pickle data which will execute arbitrary code during unpickling (See https://github.com/pytorch/pytorch/blob/main/SECURITY.md#untrusted-models for more details). In a future release, the default value for `weights_only` will be flipped to `True`. This limits the functions that could be executed during unpickling. Arbitrary objects will no longer be allowed to be loaded via this mode unless they are explicitly allowlisted by the user via `torch.serialization.add_safe_globals`. We recommend you start setting `weights_only=True` for any use case where you don't have full control of the loaded file. Please open an issue on GitHub for any issues related to this experimental feature.\n",
      "  state = torch.load(open(checkpoint_path, 'rb'), map_location='cpu')\n"
     ]
    },
    {
     "data": {
      "text/plain": [
       "CustomResNet18(\n",
       "  (feature_extractor): ResNet(\n",
       "    (conv1): Conv2d(16, 64, kernel_size=(7, 7), stride=(2, 2), padding=(3, 3), bias=False)\n",
       "    (bn1): BatchNorm2d(64, eps=1e-05, momentum=0.1, affine=True, track_running_stats=True)\n",
       "    (relu): ReLU(inplace=True)\n",
       "    (maxpool): MaxPool2d(kernel_size=3, stride=2, padding=1, dilation=1, ceil_mode=False)\n",
       "    (layer1): Sequential(\n",
       "      (0): BasicBlock(\n",
       "        (conv1): Conv2d(64, 64, kernel_size=(3, 3), stride=(1, 1), padding=(1, 1), bias=False)\n",
       "        (bn1): BatchNorm2d(64, eps=1e-05, momentum=0.1, affine=True, track_running_stats=True)\n",
       "        (relu): ReLU(inplace=True)\n",
       "        (conv2): Conv2d(64, 64, kernel_size=(3, 3), stride=(1, 1), padding=(1, 1), bias=False)\n",
       "        (bn2): BatchNorm2d(64, eps=1e-05, momentum=0.1, affine=True, track_running_stats=True)\n",
       "      )\n",
       "      (1): BasicBlock(\n",
       "        (conv1): Conv2d(64, 64, kernel_size=(3, 3), stride=(1, 1), padding=(1, 1), bias=False)\n",
       "        (bn1): BatchNorm2d(64, eps=1e-05, momentum=0.1, affine=True, track_running_stats=True)\n",
       "        (relu): ReLU(inplace=True)\n",
       "        (conv2): Conv2d(64, 64, kernel_size=(3, 3), stride=(1, 1), padding=(1, 1), bias=False)\n",
       "        (bn2): BatchNorm2d(64, eps=1e-05, momentum=0.1, affine=True, track_running_stats=True)\n",
       "      )\n",
       "    )\n",
       "    (layer2): Sequential(\n",
       "      (0): BasicBlock(\n",
       "        (conv1): Conv2d(64, 128, kernel_size=(3, 3), stride=(2, 2), padding=(1, 1), bias=False)\n",
       "        (bn1): BatchNorm2d(128, eps=1e-05, momentum=0.1, affine=True, track_running_stats=True)\n",
       "        (relu): ReLU(inplace=True)\n",
       "        (conv2): Conv2d(128, 128, kernel_size=(3, 3), stride=(1, 1), padding=(1, 1), bias=False)\n",
       "        (bn2): BatchNorm2d(128, eps=1e-05, momentum=0.1, affine=True, track_running_stats=True)\n",
       "        (downsample): Sequential(\n",
       "          (0): Conv2d(64, 128, kernel_size=(1, 1), stride=(2, 2), bias=False)\n",
       "          (1): BatchNorm2d(128, eps=1e-05, momentum=0.1, affine=True, track_running_stats=True)\n",
       "        )\n",
       "      )\n",
       "      (1): BasicBlock(\n",
       "        (conv1): Conv2d(128, 128, kernel_size=(3, 3), stride=(1, 1), padding=(1, 1), bias=False)\n",
       "        (bn1): BatchNorm2d(128, eps=1e-05, momentum=0.1, affine=True, track_running_stats=True)\n",
       "        (relu): ReLU(inplace=True)\n",
       "        (conv2): Conv2d(128, 128, kernel_size=(3, 3), stride=(1, 1), padding=(1, 1), bias=False)\n",
       "        (bn2): BatchNorm2d(128, eps=1e-05, momentum=0.1, affine=True, track_running_stats=True)\n",
       "      )\n",
       "    )\n",
       "    (layer3): Sequential(\n",
       "      (0): BasicBlock(\n",
       "        (conv1): Conv2d(128, 256, kernel_size=(3, 3), stride=(2, 2), padding=(1, 1), bias=False)\n",
       "        (bn1): BatchNorm2d(256, eps=1e-05, momentum=0.1, affine=True, track_running_stats=True)\n",
       "        (relu): ReLU(inplace=True)\n",
       "        (conv2): Conv2d(256, 256, kernel_size=(3, 3), stride=(1, 1), padding=(1, 1), bias=False)\n",
       "        (bn2): BatchNorm2d(256, eps=1e-05, momentum=0.1, affine=True, track_running_stats=True)\n",
       "        (downsample): Sequential(\n",
       "          (0): Conv2d(128, 256, kernel_size=(1, 1), stride=(2, 2), bias=False)\n",
       "          (1): BatchNorm2d(256, eps=1e-05, momentum=0.1, affine=True, track_running_stats=True)\n",
       "        )\n",
       "      )\n",
       "      (1): BasicBlock(\n",
       "        (conv1): Conv2d(256, 256, kernel_size=(3, 3), stride=(1, 1), padding=(1, 1), bias=False)\n",
       "        (bn1): BatchNorm2d(256, eps=1e-05, momentum=0.1, affine=True, track_running_stats=True)\n",
       "        (relu): ReLU(inplace=True)\n",
       "        (conv2): Conv2d(256, 256, kernel_size=(3, 3), stride=(1, 1), padding=(1, 1), bias=False)\n",
       "        (bn2): BatchNorm2d(256, eps=1e-05, momentum=0.1, affine=True, track_running_stats=True)\n",
       "      )\n",
       "    )\n",
       "    (layer4): Sequential(\n",
       "      (0): BasicBlock(\n",
       "        (conv1): Conv2d(256, 512, kernel_size=(3, 3), stride=(2, 2), padding=(1, 1), bias=False)\n",
       "        (bn1): BatchNorm2d(512, eps=1e-05, momentum=0.1, affine=True, track_running_stats=True)\n",
       "        (relu): ReLU(inplace=True)\n",
       "        (conv2): Conv2d(512, 512, kernel_size=(3, 3), stride=(1, 1), padding=(1, 1), bias=False)\n",
       "        (bn2): BatchNorm2d(512, eps=1e-05, momentum=0.1, affine=True, track_running_stats=True)\n",
       "        (downsample): Sequential(\n",
       "          (0): Conv2d(256, 512, kernel_size=(1, 1), stride=(2, 2), bias=False)\n",
       "          (1): BatchNorm2d(512, eps=1e-05, momentum=0.1, affine=True, track_running_stats=True)\n",
       "        )\n",
       "      )\n",
       "      (1): BasicBlock(\n",
       "        (conv1): Conv2d(512, 512, kernel_size=(3, 3), stride=(1, 1), padding=(1, 1), bias=False)\n",
       "        (bn1): BatchNorm2d(512, eps=1e-05, momentum=0.1, affine=True, track_running_stats=True)\n",
       "        (relu): ReLU(inplace=True)\n",
       "        (conv2): Conv2d(512, 512, kernel_size=(3, 3), stride=(1, 1), padding=(1, 1), bias=False)\n",
       "        (bn2): BatchNorm2d(512, eps=1e-05, momentum=0.1, affine=True, track_running_stats=True)\n",
       "      )\n",
       "    )\n",
       "    (avgpool): AdaptiveAvgPool2d(output_size=(1, 1))\n",
       "    (fc): Identity()\n",
       "  )\n",
       "  (classifier): Linear(in_features=512, out_features=2, bias=True)\n",
       ")"
      ]
     },
     "execution_count": 49,
     "metadata": {},
     "output_type": "execute_result"
    }
   ],
   "source": [
    "# Load cfgs and dataset:\n",
    "cfg = yaml.safe_load(open('/home/Mariam/codes/ct_classifier/configs/exp_resnet18.yaml', 'r'))\n",
    "dl_train = create_dataloader(cfg, split='train',eval=True)\n",
    "dl_val = create_dataloader(cfg, split='val', eval=True)\n",
    "#create model instance\n",
    "model_instance = CustomResNet18(cfg['num_classes']) \n",
    "# load a pretrained checkpoint\n",
    "checkpoint_path = '/home/Mariam/codes/ct_classifier/model_states/100.pt'\n",
    "state = torch.load(open(checkpoint_path, 'rb'), map_location='cpu')\n",
    "model_instance.load_state_dict(state['model'])\n",
    "model_instance.eval()"
   ]
  },
  {
   "cell_type": "code",
   "execution_count": 53,
   "metadata": {},
   "outputs": [],
   "source": [
    "def get_model_preds(dataloader,model,device='cpu'):\n",
    "    all_labels = []\n",
    "    all_preds = []\n",
    "    all_softmax = []\n",
    "    all_image_id1 = []\n",
    "    all_image_id2 = []\n",
    "    model.eval()\n",
    "    model.to(device)\n",
    "    for idx, (data, labels,image_couples) in enumerate(dataloader):   \n",
    "        image_idx1, image_idx2 =  image_couples\n",
    "        data=data.to(device)\n",
    "        with torch.no_grad():\n",
    "            predictions = model(data).to('cpu')\n",
    "        softmax_scores = softmax(predictions,dim=1)\n",
    "        all_labels.append(labels)\n",
    "        all_preds.append(predictions)\n",
    "        all_softmax.append(softmax_scores)\n",
    "        all_image_id1.append(image_idx1)\n",
    "        all_image_id2.append(image_idx2)\n",
    "    all_labels = np.concatenate(all_labels)\n",
    "    str_labels = ['bleached' if l==1 else 'healthy' for l in all_labels]\n",
    "    #print(np.concatenate(all_image_id1).shape,np.concatenate(all_image_id2).shape,np.concatenate(all_softmax).shape, )\n",
    "    df = pd.DataFrame({'image_id1':np.concatenate(all_image_id1),'image_id2':np.concatenate(all_image_id2), 'softmax_bleach_scores':np.concatenate(all_softmax)[:,1],\n",
    "                         'raw_bleach_scores':np.concatenate(all_preds)[:,1],'labels': all_labels, 'str_labels':str_labels} )\n",
    "    df['image_path1'] = df.image_id1.map(lambda idx: dataloader.dataset.meta.query('image_id==@idx').filepath.values[0]) # get image paths\n",
    "    df['image_path2'] = df.image_id2.map(lambda idx: dataloader.dataset.meta.query('image_id==@idx').filepath.values[0])\n",
    "    df['site'] = df.image_id1.map(lambda idx: dataloader.dataset.meta.query('image_id==@idx').site.values[0])\n",
    "    df['filename']= df.image_id1.map(lambda idx: dataloader.dataset.meta.query('image_id==@idx').filename.values[0])\n",
    "    return df"
   ]
  },
  {
   "cell_type": "code",
   "execution_count": 39,
   "metadata": {},
   "outputs": [],
   "source": [
    "train_scores_df = get_model_preds(dl_train,model_instance)"
   ]
  },
  {
   "cell_type": "code",
   "execution_count": 40,
   "metadata": {},
   "outputs": [
    {
     "data": {
      "text/html": [
       "<div>\n",
       "<style scoped>\n",
       "    .dataframe tbody tr th:only-of-type {\n",
       "        vertical-align: middle;\n",
       "    }\n",
       "\n",
       "    .dataframe tbody tr th {\n",
       "        vertical-align: top;\n",
       "    }\n",
       "\n",
       "    .dataframe thead th {\n",
       "        text-align: right;\n",
       "    }\n",
       "</style>\n",
       "<table border=\"1\" class=\"dataframe\">\n",
       "  <thead>\n",
       "    <tr style=\"text-align: right;\">\n",
       "      <th></th>\n",
       "      <th>image_id1</th>\n",
       "      <th>image_id2</th>\n",
       "      <th>softmax_bleach_scores</th>\n",
       "      <th>raw_bleach_scores</th>\n",
       "      <th>labels</th>\n",
       "      <th>str_labels</th>\n",
       "      <th>image_path1</th>\n",
       "      <th>image_path2</th>\n",
       "      <th>site</th>\n",
       "      <th>filename</th>\n",
       "    </tr>\n",
       "  </thead>\n",
       "  <tbody>\n",
       "    <tr>\n",
       "      <th>0</th>\n",
       "      <td>18</td>\n",
       "      <td>72</td>\n",
       "      <td>0.998253</td>\n",
       "      <td>3.216250</td>\n",
       "      <td>1.0</td>\n",
       "      <td>bleached</td>\n",
       "      <td>/mnt/class_data/group3_remotesensing/mariamaya...</td>\n",
       "      <td>/mnt/class_data/group3_remotesensing/mariamaya...</td>\n",
       "      <td>cheeca_flkeys</td>\n",
       "      <td>loc005.tif</td>\n",
       "    </tr>\n",
       "    <tr>\n",
       "      <th>1</th>\n",
       "      <td>156</td>\n",
       "      <td>151</td>\n",
       "      <td>0.001951</td>\n",
       "      <td>-4.171565</td>\n",
       "      <td>0.0</td>\n",
       "      <td>healthy</td>\n",
       "      <td>/mnt/class_data/group3_remotesensing/mariamaya...</td>\n",
       "      <td>/mnt/class_data/group3_remotesensing/mariamaya...</td>\n",
       "      <td>northpoint_lizard</td>\n",
       "      <td>loc001.tif</td>\n",
       "    </tr>\n",
       "    <tr>\n",
       "      <th>2</th>\n",
       "      <td>9</td>\n",
       "      <td>51</td>\n",
       "      <td>0.999180</td>\n",
       "      <td>3.575939</td>\n",
       "      <td>1.0</td>\n",
       "      <td>bleached</td>\n",
       "      <td>/mnt/class_data/group3_remotesensing/mariamaya...</td>\n",
       "      <td>/mnt/class_data/group3_remotesensing/mariamaya...</td>\n",
       "      <td>cheeca_flkeys</td>\n",
       "      <td>loc004.tif</td>\n",
       "    </tr>\n",
       "    <tr>\n",
       "      <th>3</th>\n",
       "      <td>149</td>\n",
       "      <td>176</td>\n",
       "      <td>0.995477</td>\n",
       "      <td>2.814723</td>\n",
       "      <td>1.0</td>\n",
       "      <td>bleached</td>\n",
       "      <td>/mnt/class_data/group3_remotesensing/mariamaya...</td>\n",
       "      <td>/mnt/class_data/group3_remotesensing/mariamaya...</td>\n",
       "      <td>northpoint_lizard</td>\n",
       "      <td>loc001.tif</td>\n",
       "    </tr>\n",
       "    <tr>\n",
       "      <th>4</th>\n",
       "      <td>153</td>\n",
       "      <td>173</td>\n",
       "      <td>0.997093</td>\n",
       "      <td>2.906343</td>\n",
       "      <td>1.0</td>\n",
       "      <td>bleached</td>\n",
       "      <td>/mnt/class_data/group3_remotesensing/mariamaya...</td>\n",
       "      <td>/mnt/class_data/group3_remotesensing/mariamaya...</td>\n",
       "      <td>northpoint_lizard</td>\n",
       "      <td>loc001.tif</td>\n",
       "    </tr>\n",
       "    <tr>\n",
       "      <th>...</th>\n",
       "      <td>...</td>\n",
       "      <td>...</td>\n",
       "      <td>...</td>\n",
       "      <td>...</td>\n",
       "      <td>...</td>\n",
       "      <td>...</td>\n",
       "      <td>...</td>\n",
       "      <td>...</td>\n",
       "      <td>...</td>\n",
       "      <td>...</td>\n",
       "    </tr>\n",
       "    <tr>\n",
       "      <th>1050</th>\n",
       "      <td>10</td>\n",
       "      <td>70</td>\n",
       "      <td>0.998572</td>\n",
       "      <td>2.957212</td>\n",
       "      <td>1.0</td>\n",
       "      <td>bleached</td>\n",
       "      <td>/mnt/class_data/group3_remotesensing/mariamaya...</td>\n",
       "      <td>/mnt/class_data/group3_remotesensing/mariamaya...</td>\n",
       "      <td>cheeca_flkeys</td>\n",
       "      <td>loc006.tif</td>\n",
       "    </tr>\n",
       "    <tr>\n",
       "      <th>1051</th>\n",
       "      <td>161</td>\n",
       "      <td>152</td>\n",
       "      <td>0.000192</td>\n",
       "      <td>-4.748058</td>\n",
       "      <td>0.0</td>\n",
       "      <td>healthy</td>\n",
       "      <td>/mnt/class_data/group3_remotesensing/mariamaya...</td>\n",
       "      <td>/mnt/class_data/group3_remotesensing/mariamaya...</td>\n",
       "      <td>northpoint_lizard</td>\n",
       "      <td>loc001.tif</td>\n",
       "    </tr>\n",
       "    <tr>\n",
       "      <th>1052</th>\n",
       "      <td>11</td>\n",
       "      <td>89</td>\n",
       "      <td>0.995890</td>\n",
       "      <td>2.578465</td>\n",
       "      <td>1.0</td>\n",
       "      <td>bleached</td>\n",
       "      <td>/mnt/class_data/group3_remotesensing/mariamaya...</td>\n",
       "      <td>/mnt/class_data/group3_remotesensing/mariamaya...</td>\n",
       "      <td>cheeca_flkeys</td>\n",
       "      <td>loc001.tif</td>\n",
       "    </tr>\n",
       "    <tr>\n",
       "      <th>1053</th>\n",
       "      <td>150</td>\n",
       "      <td>167</td>\n",
       "      <td>0.999644</td>\n",
       "      <td>3.995313</td>\n",
       "      <td>1.0</td>\n",
       "      <td>bleached</td>\n",
       "      <td>/mnt/class_data/group3_remotesensing/mariamaya...</td>\n",
       "      <td>/mnt/class_data/group3_remotesensing/mariamaya...</td>\n",
       "      <td>northpoint_lizard</td>\n",
       "      <td>loc001.tif</td>\n",
       "    </tr>\n",
       "    <tr>\n",
       "      <th>1054</th>\n",
       "      <td>118</td>\n",
       "      <td>137</td>\n",
       "      <td>0.997521</td>\n",
       "      <td>2.883697</td>\n",
       "      <td>1.0</td>\n",
       "      <td>bleached</td>\n",
       "      <td>/mnt/class_data/group3_remotesensing/mariamaya...</td>\n",
       "      <td>/mnt/class_data/group3_remotesensing/mariamaya...</td>\n",
       "      <td>sanagustin_mexico</td>\n",
       "      <td>loc002.tif</td>\n",
       "    </tr>\n",
       "  </tbody>\n",
       "</table>\n",
       "<p>1055 rows × 10 columns</p>\n",
       "</div>"
      ],
      "text/plain": [
       "      image_id1  image_id2  softmax_bleach_scores  raw_bleach_scores  labels  \\\n",
       "0            18         72               0.998253           3.216250     1.0   \n",
       "1           156        151               0.001951          -4.171565     0.0   \n",
       "2             9         51               0.999180           3.575939     1.0   \n",
       "3           149        176               0.995477           2.814723     1.0   \n",
       "4           153        173               0.997093           2.906343     1.0   \n",
       "...         ...        ...                    ...                ...     ...   \n",
       "1050         10         70               0.998572           2.957212     1.0   \n",
       "1051        161        152               0.000192          -4.748058     0.0   \n",
       "1052         11         89               0.995890           2.578465     1.0   \n",
       "1053        150        167               0.999644           3.995313     1.0   \n",
       "1054        118        137               0.997521           2.883697     1.0   \n",
       "\n",
       "     str_labels                                        image_path1  \\\n",
       "0      bleached  /mnt/class_data/group3_remotesensing/mariamaya...   \n",
       "1       healthy  /mnt/class_data/group3_remotesensing/mariamaya...   \n",
       "2      bleached  /mnt/class_data/group3_remotesensing/mariamaya...   \n",
       "3      bleached  /mnt/class_data/group3_remotesensing/mariamaya...   \n",
       "4      bleached  /mnt/class_data/group3_remotesensing/mariamaya...   \n",
       "...         ...                                                ...   \n",
       "1050   bleached  /mnt/class_data/group3_remotesensing/mariamaya...   \n",
       "1051    healthy  /mnt/class_data/group3_remotesensing/mariamaya...   \n",
       "1052   bleached  /mnt/class_data/group3_remotesensing/mariamaya...   \n",
       "1053   bleached  /mnt/class_data/group3_remotesensing/mariamaya...   \n",
       "1054   bleached  /mnt/class_data/group3_remotesensing/mariamaya...   \n",
       "\n",
       "                                            image_path2               site  \\\n",
       "0     /mnt/class_data/group3_remotesensing/mariamaya...      cheeca_flkeys   \n",
       "1     /mnt/class_data/group3_remotesensing/mariamaya...  northpoint_lizard   \n",
       "2     /mnt/class_data/group3_remotesensing/mariamaya...      cheeca_flkeys   \n",
       "3     /mnt/class_data/group3_remotesensing/mariamaya...  northpoint_lizard   \n",
       "4     /mnt/class_data/group3_remotesensing/mariamaya...  northpoint_lizard   \n",
       "...                                                 ...                ...   \n",
       "1050  /mnt/class_data/group3_remotesensing/mariamaya...      cheeca_flkeys   \n",
       "1051  /mnt/class_data/group3_remotesensing/mariamaya...  northpoint_lizard   \n",
       "1052  /mnt/class_data/group3_remotesensing/mariamaya...      cheeca_flkeys   \n",
       "1053  /mnt/class_data/group3_remotesensing/mariamaya...  northpoint_lizard   \n",
       "1054  /mnt/class_data/group3_remotesensing/mariamaya...  sanagustin_mexico   \n",
       "\n",
       "        filename  \n",
       "0     loc005.tif  \n",
       "1     loc001.tif  \n",
       "2     loc004.tif  \n",
       "3     loc001.tif  \n",
       "4     loc001.tif  \n",
       "...          ...  \n",
       "1050  loc006.tif  \n",
       "1051  loc001.tif  \n",
       "1052  loc001.tif  \n",
       "1053  loc001.tif  \n",
       "1054  loc002.tif  \n",
       "\n",
       "[1055 rows x 10 columns]"
      ]
     },
     "execution_count": 40,
     "metadata": {},
     "output_type": "execute_result"
    }
   ],
   "source": [
    "train_scores_df"
   ]
  },
  {
   "cell_type": "code",
   "execution_count": 15,
   "metadata": {},
   "outputs": [
    {
     "name": "stderr",
     "output_type": "stream",
     "text": [
      "/tmp/ipykernel_364939/1245490207.py:1: UserWarning: Implicit dimension choice for softmax has been deprecated. Change the call to include dim=X as an argument.\n",
      "  softmax_scores = softmax(predictions)\n"
     ]
    }
   ],
   "source": [
    "softmax_scores = softmax(predictions)\n",
    "accuracy = sum(labels==softmax_scores.argmax(dim=1))/len(labels)"
   ]
  },
  {
   "cell_type": "code",
   "execution_count": 16,
   "metadata": {},
   "outputs": [],
   "source": [
    "bleached_scores = softmax_scores[labels==1,1].numpy() # predictions for bleached samples\n",
    "healthy_scores = softmax_scores[labels==0,1].numpy()# predictions for healthy samples"
   ]
  },
  {
   "cell_type": "code",
   "execution_count": 17,
   "metadata": {},
   "outputs": [
    {
     "data": {
      "text/plain": [
       "(array([5., 3., 1., 0., 0., 2., 0., 0., 3., 8.]),\n",
       " array([1.95542088e-04, 1.00034617e-01, 1.99873686e-01, 2.99712777e-01,\n",
       "        3.99551839e-01, 4.99390930e-01, 5.99229991e-01, 6.99069083e-01,\n",
       "        7.98908174e-01, 8.98747206e-01, 9.98586297e-01]),\n",
       " <BarContainer object of 10 artists>)"
      ]
     },
     "execution_count": 17,
     "metadata": {},
     "output_type": "execute_result"
    },
    {
     "data": {
      "image/png": "[encoded data removed]",
      "text/plain": [
       "<Figure size 640x480 with 1 Axes>"
      ]
     },
     "metadata": {},
     "output_type": "display_data"
    }
   ],
   "source": [
    "plt.hist(bleached_scores)\n",
    "plt.hist(healthy_scores)"
   ]
  },
  {
   "cell_type": "code",
   "execution_count": 18,
   "metadata": {},
   "outputs": [
    {
     "data": {
      "text/plain": [
       "tensor([[2.6221e-03, 9.9738e-01],\n",
       "        [7.5173e-03, 9.9248e-01],\n",
       "        [2.0342e-01, 7.9658e-01],\n",
       "        [4.3136e-02, 9.5686e-01],\n",
       "        [2.9424e-02, 9.7058e-01],\n",
       "        [5.8833e-01, 4.1167e-01],\n",
       "        [4.1248e-03, 9.9588e-01],\n",
       "        [8.4835e-03, 9.9152e-01],\n",
       "        [8.4887e-01, 1.5113e-01],\n",
       "        [6.0980e-02, 9.3902e-01],\n",
       "        [9.6025e-03, 9.9040e-01],\n",
       "        [6.8627e-01, 3.1373e-01],\n",
       "        [4.7307e-03, 9.9527e-01],\n",
       "        [1.7196e-03, 9.9828e-01],\n",
       "        [2.6088e-01, 7.3912e-01],\n",
       "        [9.1125e-01, 8.8751e-02],\n",
       "        [7.0246e-02, 9.2975e-01],\n",
       "        [6.8005e-01, 3.1995e-01],\n",
       "        [1.4380e-03, 9.9856e-01],\n",
       "        [7.0556e-03, 9.9294e-01],\n",
       "        [9.2703e-02, 9.0730e-01],\n",
       "        [7.9072e-01, 2.0928e-01],\n",
       "        [1.1167e-01, 8.8833e-01],\n",
       "        [7.1271e-01, 2.8729e-01],\n",
       "        [1.4138e-03, 9.9859e-01],\n",
       "        [7.2702e-02, 9.2730e-01],\n",
       "        [8.7864e-01, 1.2136e-01],\n",
       "        [4.8556e-01, 5.1444e-01],\n",
       "        [6.6261e-01, 3.3739e-01],\n",
       "        [9.5185e-01, 4.8147e-02],\n",
       "        [3.7567e-02, 9.6243e-01],\n",
       "        [3.1610e-01, 6.8390e-01],\n",
       "        [3.8673e-01, 6.1327e-01],\n",
       "        [8.8471e-01, 1.1529e-01],\n",
       "        [6.9744e-01, 3.0256e-01],\n",
       "        [9.8718e-01, 1.2815e-02],\n",
       "        [8.1003e-01, 1.8997e-01],\n",
       "        [7.4907e-01, 2.5093e-01],\n",
       "        [8.9692e-01, 1.0308e-01],\n",
       "        [1.3384e-01, 8.6616e-01],\n",
       "        [7.0888e-01, 2.9112e-01],\n",
       "        [6.5250e-01, 3.4750e-01],\n",
       "        [1.7522e-01, 8.2478e-01],\n",
       "        [2.5969e-01, 7.4031e-01],\n",
       "        [7.6716e-02, 9.2328e-01],\n",
       "        [1.8406e-01, 8.1594e-01],\n",
       "        [4.2366e-01, 5.7634e-01],\n",
       "        [9.9216e-02, 9.0078e-01],\n",
       "        [9.9966e-01, 3.4135e-04],\n",
       "        [4.3778e-03, 9.9562e-01],\n",
       "        [1.4553e-02, 9.8545e-01],\n",
       "        [9.9956e-01, 4.3576e-04],\n",
       "        [2.9180e-03, 9.9708e-01],\n",
       "        [4.7628e-03, 9.9524e-01],\n",
       "        [9.9980e-01, 1.9554e-04],\n",
       "        [1.4139e-01, 8.5861e-01],\n",
       "        [7.3799e-03, 9.9262e-01],\n",
       "        [8.9211e-01, 1.0789e-01],\n",
       "        [1.6942e-02, 9.8306e-01],\n",
       "        [6.1248e-04, 9.9939e-01],\n",
       "        [4.8022e-01, 5.1978e-01],\n",
       "        [8.0097e-04, 9.9920e-01],\n",
       "        [7.4176e-02, 9.2582e-01],\n",
       "        [9.7130e-01, 2.8702e-02],\n",
       "        [9.4371e-04, 9.9906e-01],\n",
       "        [2.4875e-02, 9.7512e-01]])"
      ]
     },
     "execution_count": 18,
     "metadata": {},
     "output_type": "execute_result"
    }
   ],
   "source": [
    "softmax_scores"
   ]
  },
  {
   "cell_type": "code",
   "execution_count": 20,
   "metadata": {},
   "outputs": [],
   "source": [
    "str_labels = ['bleached' if l==1 else 'healthy' for l in labels]\n",
    "\n",
    "scores_df = pd.DataFrame({'image_id1':image_idx1,'image_id2':image_idx2, 'softmax_bleach_scores':softmax_scores[:,1].numpy(),\n",
    "                         'raw_bleach_scores':predictions[:,1].numpy(),'labels': labels, 'str_labels':str_labels} )\n",
    "scores_df['image_path1'] = scores_df.image_id1.map(lambda idx: dl_val.dataset.meta.query('image_id==@idx').filepath.values[0]) # get image paths\n",
    "scores_df['image_path2'] = scores_df.image_id2.map(lambda idx: dl_val.dataset.meta.query('image_id==@idx').filepath.values[0])\n",
    "scores_df['site'] = scores_df.image_id1.map(lambda idx: dl_val.dataset.meta.query('image_id==@idx').site.values[0])\n",
    "scores_df['filename']= scores_df.image_id1.map(lambda idx: dl_val.dataset.meta.query('image_id==@idx').filename.values[0])\n",
    "#scores_df['date1']\n",
    "#scores_df['date2']"
   ]
  },
  {
   "cell_type": "code",
   "execution_count": 21,
   "metadata": {},
   "outputs": [
    {
     "data": {
      "text/plain": [
       "array(['cheeca_flkeys', 'lbcaye_bbr', 'sanagustin_mexico',\n",
       "       'northpoint_lizard'], dtype=object)"
      ]
     },
     "execution_count": 21,
     "metadata": {},
     "output_type": "execute_result"
    }
   ],
   "source": [
    "scores_df.site.unique()"
   ]
  },
  {
   "cell_type": "code",
   "execution_count": 27,
   "metadata": {},
   "outputs": [
    {
     "data": {
      "text/plain": [
       "str_labels\n",
       "bleached    Axes(0.125,0.11;0.775x0.77)\n",
       "healthy     Axes(0.125,0.11;0.775x0.77)\n",
       "Name: softmax_bleach_scores, dtype: object"
      ]
     },
     "execution_count": 27,
     "metadata": {},
     "output_type": "execute_result"
    },
    {
     "data": {
      "image/png": "[encoded data removed]",
      "text/plain": [
       "<Figure size 640x480 with 1 Axes>"
      ]
     },
     "metadata": {},
     "output_type": "display_data"
    }
   ],
   "source": [
    "scores_df[scores_df.site=='cheeca_flkeys'].groupby('str_labels').softmax_bleach_scores.hist(alpha=0.5,legend=True)"
   ]
  },
  {
   "cell_type": "code",
   "execution_count": 54,
   "metadata": {},
   "outputs": [],
   "source": [
    "train_scores_df = get_model_preds(dl_train,model_instance,device='cuda')\n",
    "val_scores_df = get_model_preds(dl_val,model_instance,device='cuda')"
   ]
  },
  {
   "cell_type": "code",
   "execution_count": 55,
   "metadata": {},
   "outputs": [
    {
     "data": {
      "text/plain": [
       "str_labels\n",
       "bleached    Axes(0.125,0.11;0.775x0.77)\n",
       "healthy     Axes(0.125,0.11;0.775x0.77)\n",
       "Name: raw_bleach_scores, dtype: object"
      ]
     },
     "execution_count": 55,
     "metadata": {},
     "output_type": "execute_result"
    },
    {
     "data": {
      "image/png": "[encoded data removed]",
      "text/plain": [
       "<Figure size 640x480 with 1 Axes>"
      ]
     },
     "metadata": {},
     "output_type": "display_data"
    }
   ],
   "source": [
    "train_scores_df.groupby('str_labels').raw_bleach_scores.hist(alpha=0.5,legend=True)"
   ]
  },
  {
   "cell_type": "code",
   "execution_count": 58,
   "metadata": {},
   "outputs": [
    {
     "data": {
      "text/plain": [
       "str_labels\n",
       "bleached    Axes(0.125,0.11;0.775x0.77)\n",
       "healthy     Axes(0.125,0.11;0.775x0.77)\n",
       "Name: softmax_bleach_scores, dtype: object"
      ]
     },
     "execution_count": 58,
     "metadata": {},
     "output_type": "execute_result"
    },
    {
     "data": {
      "image/png": "[encoded data removed]",
      "text/plain": [
       "<Figure size 640x480 with 1 Axes>"
      ]
     },
     "metadata": {},
     "output_type": "display_data"
    }
   ],
   "source": [
    "val_scores_df.groupby('str_labels').softmax_bleach_scores.hist(alpha=0.5,legend=True)"
   ]
  },
  {
   "cell_type": "code",
   "execution_count": null,
   "metadata": {},
   "outputs": [],
   "source": []
  }
 ],
 "metadata": {
  "kernelspec": {
   "display_name": "coral",
   "language": "python",
   "name": "python3"
  },
  "language_info": {
   "codemirror_mode": {
    "name": "ipython",
    "version": 3
   },
   "file_extension": ".py",
   "mimetype": "text/x-python",
   "name": "python",
   "nbconvert_exporter": "python",
   "pygments_lexer": "ipython3",
   "version": "3.10.0"
  }
 },
 "nbformat": 4,
 "nbformat_minor": 2
}
