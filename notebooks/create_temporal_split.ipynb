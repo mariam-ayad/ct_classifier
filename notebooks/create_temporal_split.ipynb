{
 "cells": [
  {
   "cell_type": "code",
   "execution_count": 6,
   "metadata": {},
   "outputs": [
    {
     "name": "stdout",
     "output_type": "stream",
     "text": [
      "            site    label      date    filename  \\\n",
      "0  cheeca_flkeys  healthy  20230504  loc005.tif   \n",
      "1  cheeca_flkeys  healthy  20230504  loc002.tif   \n",
      "2  cheeca_flkeys  healthy  20230504  loc003.tif   \n",
      "3  cheeca_flkeys  healthy  20230504  loc004.tif   \n",
      "4  cheeca_flkeys  healthy  20230504  loc006.tif   \n",
      "\n",
      "                                            filepath  \n",
      "0  /mnt/class_data/group3_remotesensing/mariamaya...  \n",
      "1  /mnt/class_data/group3_remotesensing/mariamaya...  \n",
      "2  /mnt/class_data/group3_remotesensing/mariamaya...  \n",
      "3  /mnt/class_data/group3_remotesensing/mariamaya...  \n",
      "4  /mnt/class_data/group3_remotesensing/mariamaya...  \n",
      "CSV file saved to: /home/Mariam/codes/ct_classifier/runs/resnet18/split_temporal/all.csv\n"
     ]
    }
   ],
   "source": [
    "import os\n",
    "import glob\n",
    "import pandas as pd\n",
    "import numpy as np\n",
    "##rename to Temporal Split\n",
    "\n",
    "# Base directory\n",
    "datadir = \"/mnt/class_data/group3_remotesensing/mariamayad/planet_superdove\"\n",
    "sites = ['cheeca_flkeys','lbcaye_bbr', 'sanagustin_mexico','northpoint_lizard']\n",
    "#sample_sites= for each site 1 timestamp picked at random\n",
    "\n",
    "# Variables to store file paths and their labels\n",
    "filepaths = []\n",
    "\n",
    "# Collect filepaths from every image that we have\n",
    "for site in sites:    \n",
    "    # Get all bleached and healthy files for the current site\n",
    "    filepaths_site = glob.glob(os.path.join(datadir, site, '**/*.tif'), recursive=True)\n",
    "    # Add filepaths\n",
    "    filepaths.extend(filepaths_site)\n",
    "\n",
    "# Check if files were collected\n",
    "assert filepaths, \"No files found. Please check your directory structure and file paths.\"\n",
    "\n",
    "# Create a DataFrame\n",
    "df = pd.DataFrame({\n",
    "    'filepath': filepaths,\n",
    "})\n",
    "\n",
    "# Extract components from the file path\n",
    "df['site'] = df['filepath'].apply(lambda x: x.split('/')[6])  # Extract site\n",
    "df['label'] = df['filepath'].apply(lambda x: x.split('/')[7])  # Extract label (bleached/healthy)\n",
    "df['date'] = df['filepath'].apply(lambda x: x.split('/')[9])  # Extract date\n",
    "df['filename'] = df['filepath'].apply(lambda x: os.path.basename(x))  # Extract filename\n",
    "\n",
    "# Rearrange the columns\n",
    "df = df[['site', 'label', 'date', 'filename', 'filepath']]\n",
    "\n",
    "# Debugging: Check the DataFrame\n",
    "print(df.head())\n",
    "df['image_id'] = range(len(df))\n",
    "# Save all filepaths to CSV\n",
    "output_csv_path = \"/home/Mariam/codes/ct_classifier/runs/resnet18/split_temporal/all.csv\"\n",
    "df.to_csv(output_csv_path, index=False)\n",
    "print(f\"CSV file saved to: {output_csv_path}\")\n",
    "\n",
    "# Start creating the data splits\n"
   ]
  },
  {
   "cell_type": "code",
   "execution_count": 24,
   "metadata": {},
   "outputs": [],
   "source": [
    "# Initialize list of dictionaries to store filepaths \n",
    "#  of healthy and bleached images\n",
    "val_filepaths = {\n",
    "    'bleached': [],\n",
    "    'healthy': []\n",
    "}\n",
    "test_filepaths = {\n",
    "    'bleached': [],\n",
    "    'healthy': []\n",
    "}\n",
    "train_filepaths = {\n",
    "    'bleached': [],\n",
    "    'healthy': []\n",
    "}\n",
    "\n",
    "excluded_filepaths = []\n",
    "\n",
    "for split_filepaths in [val_filepaths, test_filepaths]:\n",
    "    # Exclude all filepaths that have already been used for other splits\n",
    "    if excluded_filepaths:\n",
    "        df_sub = df[~(df.filepath.isin(excluded_filepaths))]\n",
    "    else:\n",
    "        df_sub = df\n",
    "    \n",
    "    # Select one date at random from every site\n",
    "    for label in ['healthy', 'bleached']:\n",
    "        for site in sites:\n",
    "            # Within all healthy or bleached images, get all dates for the selected site\n",
    "            dates_at_site = df_sub[(df_sub.site==site) & (df_sub.label==label)].date.unique()\n",
    "            # Select one random date within those\n",
    "            random_date = np.random.choice(dates_at_site)\n",
    "            # Get filepaths of all tile locations within selected site and date\n",
    "            filepaths_at_site_date = df_sub[(df_sub.site==site) & (df_sub.date==random_date)].filepath\n",
    "            # Add filepaths to list\n",
    "            split_filepaths[label].extend(filepaths_at_site_date)\n",
    "        \n",
    "        # Add filepaths that we just selected for the test or val split to the list\n",
    "        # of excluded files\n",
    "        excluded_filepaths.extend(split_filepaths[label])\n",
    "\n",
    "# Move all else into train split\n",
    "df_train = df[~(df.filepath.isin(excluded_filepaths))]\n",
    "for label in ['healthy', 'bleached']:\n",
    "    train_filepaths[label] = list(df_train[df_train.label==label].filepath.values)"
   ]
  },
  {
   "cell_type": "code",
   "execution_count": 25,
   "metadata": {},
   "outputs": [
    {
     "name": "stdout",
     "output_type": "stream",
     "text": [
      "Exlcluded filepaths: 43\n",
      "Bleached: 11 Healthy: 10 Bleached: 11 Healthy: 11\n",
      "Bleached train: 70\n",
      "69\n",
      "182\n"
     ]
    }
   ],
   "source": [
    "# todo: debug case in which there s a site that has less than 3 dates and\\or theres an unequal number of bleached\\\\ healhty images\n",
    "print('Exlcluded filepaths:',len(excluded_filepaths))\n",
    "print('Bleached:',len(test_filepaths['bleached']), 'Healthy:', len(test_filepaths['healthy']), 'Bleached:', len(val_filepaths['bleached']), 'Healthy:',len(val_filepaths['healthy']))\n",
    "\n",
    "print('Bleached train:', len(train_filepaths['bleached']))\n",
    "print(len(train_filepaths['healthy']))\n",
    "print(len(df) )\n",
    "assert (len(df) == len(test_filepaths['bleached']) + \n",
    "    len(test_filepaths['healthy']) +len(val_filepaths['bleached']) + \n",
    "    len(val_filepaths['healthy']) + len(train_filepaths['bleached']) + \n",
    "    len(train_filepaths['healthy'])), 'For some unknown reason the '\\\n",
    "    'total number images in each split does not equal the number of file that we have'"
   ]
  },
  {
   "cell_type": "code",
   "execution_count": 34,
   "metadata": {},
   "outputs": [
    {
     "data": {
      "text/plain": [
       "['/mnt/class_data/group3_remotesensing/mariamayad/planet_superdove/cheeca_flkeys/bleached/tiled_360m/20230730/loc005.tif',\n",
       " '/mnt/class_data/group3_remotesensing/mariamayad/planet_superdove/cheeca_flkeys/bleached/tiled_360m/20230730/loc002.tif',\n",
       " '/mnt/class_data/group3_remotesensing/mariamayad/planet_superdove/cheeca_flkeys/bleached/tiled_360m/20230730/loc003.tif',\n",
       " '/mnt/class_data/group3_remotesensing/mariamayad/planet_superdove/cheeca_flkeys/bleached/tiled_360m/20230730/loc004.tif',\n",
       " '/mnt/class_data/group3_remotesensing/mariamayad/planet_superdove/cheeca_flkeys/bleached/tiled_360m/20230730/loc006.tif',\n",
       " '/mnt/class_data/group3_remotesensing/mariamayad/planet_superdove/cheeca_flkeys/bleached/tiled_360m/20230730/loc001.tif',\n",
       " '/mnt/class_data/group3_remotesensing/mariamayad/planet_superdove/cheeca_flkeys/bleached/tiled_360m/20230817/loc005.tif',\n",
       " '/mnt/class_data/group3_remotesensing/mariamayad/planet_superdove/cheeca_flkeys/bleached/tiled_360m/20230817/loc002.tif',\n",
       " '/mnt/class_data/group3_remotesensing/mariamayad/planet_superdove/cheeca_flkeys/bleached/tiled_360m/20230817/loc003.tif',\n",
       " '/mnt/class_data/group3_remotesensing/mariamayad/planet_superdove/cheeca_flkeys/bleached/tiled_360m/20230817/loc004.tif',\n",
       " '/mnt/class_data/group3_remotesensing/mariamayad/planet_superdove/cheeca_flkeys/bleached/tiled_360m/20230817/loc006.tif',\n",
       " '/mnt/class_data/group3_remotesensing/mariamayad/planet_superdove/cheeca_flkeys/bleached/tiled_360m/20230817/loc001.tif',\n",
       " '/mnt/class_data/group3_remotesensing/mariamayad/planet_superdove/cheeca_flkeys/bleached/tiled_360m/20230801/loc005.tif',\n",
       " '/mnt/class_data/group3_remotesensing/mariamayad/planet_superdove/cheeca_flkeys/bleached/tiled_360m/20230801/loc002.tif',\n",
       " '/mnt/class_data/group3_remotesensing/mariamayad/planet_superdove/cheeca_flkeys/bleached/tiled_360m/20230801/loc003.tif',\n",
       " '/mnt/class_data/group3_remotesensing/mariamayad/planet_superdove/cheeca_flkeys/bleached/tiled_360m/20230801/loc004.tif',\n",
       " '/mnt/class_data/group3_remotesensing/mariamayad/planet_superdove/cheeca_flkeys/bleached/tiled_360m/20230801/loc006.tif',\n",
       " '/mnt/class_data/group3_remotesensing/mariamayad/planet_superdove/cheeca_flkeys/bleached/tiled_360m/20230801/loc001.tif',\n",
       " '/mnt/class_data/group3_remotesensing/mariamayad/planet_superdove/cheeca_flkeys/bleached/tiled_360m/20230825/loc005.tif',\n",
       " '/mnt/class_data/group3_remotesensing/mariamayad/planet_superdove/cheeca_flkeys/bleached/tiled_360m/20230825/loc002.tif',\n",
       " '/mnt/class_data/group3_remotesensing/mariamayad/planet_superdove/cheeca_flkeys/bleached/tiled_360m/20230825/loc003.tif',\n",
       " '/mnt/class_data/group3_remotesensing/mariamayad/planet_superdove/cheeca_flkeys/bleached/tiled_360m/20230825/loc004.tif',\n",
       " '/mnt/class_data/group3_remotesensing/mariamayad/planet_superdove/cheeca_flkeys/bleached/tiled_360m/20230825/loc006.tif',\n",
       " '/mnt/class_data/group3_remotesensing/mariamayad/planet_superdove/cheeca_flkeys/bleached/tiled_360m/20230825/loc001.tif',\n",
       " '/mnt/class_data/group3_remotesensing/mariamayad/planet_superdove/cheeca_flkeys/bleached/tiled_360m/20230809/loc005.tif',\n",
       " '/mnt/class_data/group3_remotesensing/mariamayad/planet_superdove/cheeca_flkeys/bleached/tiled_360m/20230809/loc002.tif',\n",
       " '/mnt/class_data/group3_remotesensing/mariamayad/planet_superdove/cheeca_flkeys/bleached/tiled_360m/20230809/loc003.tif',\n",
       " '/mnt/class_data/group3_remotesensing/mariamayad/planet_superdove/cheeca_flkeys/bleached/tiled_360m/20230809/loc004.tif',\n",
       " '/mnt/class_data/group3_remotesensing/mariamayad/planet_superdove/cheeca_flkeys/bleached/tiled_360m/20230809/loc006.tif',\n",
       " '/mnt/class_data/group3_remotesensing/mariamayad/planet_superdove/cheeca_flkeys/bleached/tiled_360m/20230809/loc001.tif',\n",
       " '/mnt/class_data/group3_remotesensing/mariamayad/planet_superdove/cheeca_flkeys/bleached/tiled_360m/20230806/loc005.tif',\n",
       " '/mnt/class_data/group3_remotesensing/mariamayad/planet_superdove/cheeca_flkeys/bleached/tiled_360m/20230806/loc002.tif',\n",
       " '/mnt/class_data/group3_remotesensing/mariamayad/planet_superdove/cheeca_flkeys/bleached/tiled_360m/20230806/loc003.tif',\n",
       " '/mnt/class_data/group3_remotesensing/mariamayad/planet_superdove/cheeca_flkeys/bleached/tiled_360m/20230806/loc004.tif',\n",
       " '/mnt/class_data/group3_remotesensing/mariamayad/planet_superdove/cheeca_flkeys/bleached/tiled_360m/20230806/loc006.tif',\n",
       " '/mnt/class_data/group3_remotesensing/mariamayad/planet_superdove/cheeca_flkeys/bleached/tiled_360m/20230806/loc001.tif',\n",
       " '/mnt/class_data/group3_remotesensing/mariamayad/planet_superdove/lbcaye_bbr/bleached/tiled_360m/20240929/loc002.tif',\n",
       " '/mnt/class_data/group3_remotesensing/mariamayad/planet_superdove/lbcaye_bbr/bleached/tiled_360m/20240929/loc001.tif',\n",
       " '/mnt/class_data/group3_remotesensing/mariamayad/planet_superdove/sanagustin_mexico/bleached/tiled_360m/20230723/loc002.tif',\n",
       " '/mnt/class_data/group3_remotesensing/mariamayad/planet_superdove/sanagustin_mexico/bleached/tiled_360m/20230723/loc001.tif',\n",
       " '/mnt/class_data/group3_remotesensing/mariamayad/planet_superdove/sanagustin_mexico/bleached/tiled_360m/20230728/loc002.tif',\n",
       " '/mnt/class_data/group3_remotesensing/mariamayad/planet_superdove/sanagustin_mexico/bleached/tiled_360m/20230728/loc001.tif',\n",
       " '/mnt/class_data/group3_remotesensing/mariamayad/planet_superdove/sanagustin_mexico/bleached/tiled_360m/20230727/loc002.tif',\n",
       " '/mnt/class_data/group3_remotesensing/mariamayad/planet_superdove/sanagustin_mexico/bleached/tiled_360m/20230727/loc001.tif',\n",
       " '/mnt/class_data/group3_remotesensing/mariamayad/planet_superdove/sanagustin_mexico/bleached/tiled_360m/20230713/loc002.tif',\n",
       " '/mnt/class_data/group3_remotesensing/mariamayad/planet_superdove/sanagustin_mexico/bleached/tiled_360m/20230713/loc001.tif',\n",
       " '/mnt/class_data/group3_remotesensing/mariamayad/planet_superdove/sanagustin_mexico/bleached/tiled_360m/20230711/loc002.tif',\n",
       " '/mnt/class_data/group3_remotesensing/mariamayad/planet_superdove/sanagustin_mexico/bleached/tiled_360m/20230711/loc001.tif',\n",
       " '/mnt/class_data/group3_remotesensing/mariamayad/planet_superdove/sanagustin_mexico/bleached/tiled_360m/20230720/loc002.tif',\n",
       " '/mnt/class_data/group3_remotesensing/mariamayad/planet_superdove/sanagustin_mexico/bleached/tiled_360m/20230720/loc001.tif',\n",
       " '/mnt/class_data/group3_remotesensing/mariamayad/planet_superdove/sanagustin_mexico/bleached/tiled_360m/20230725/loc002.tif',\n",
       " '/mnt/class_data/group3_remotesensing/mariamayad/planet_superdove/sanagustin_mexico/bleached/tiled_360m/20230725/loc001.tif',\n",
       " '/mnt/class_data/group3_remotesensing/mariamayad/planet_superdove/sanagustin_mexico/bleached/tiled_360m/20230705/loc002.tif',\n",
       " '/mnt/class_data/group3_remotesensing/mariamayad/planet_superdove/sanagustin_mexico/bleached/tiled_360m/20230705/loc001.tif',\n",
       " '/mnt/class_data/group3_remotesensing/mariamayad/planet_superdove/sanagustin_mexico/bleached/tiled_360m/20230708/loc002.tif',\n",
       " '/mnt/class_data/group3_remotesensing/mariamayad/planet_superdove/sanagustin_mexico/bleached/tiled_360m/20230708/loc001.tif',\n",
       " '/mnt/class_data/group3_remotesensing/mariamayad/planet_superdove/northpoint_lizard/bleached/tiled_360m/20240326/loc001.tif',\n",
       " '/mnt/class_data/group3_remotesensing/mariamayad/planet_superdove/northpoint_lizard/bleached/tiled_360m/20240327/loc001.tif',\n",
       " '/mnt/class_data/group3_remotesensing/mariamayad/planet_superdove/northpoint_lizard/bleached/tiled_360m/20240401/loc001.tif',\n",
       " '/mnt/class_data/group3_remotesensing/mariamayad/planet_superdove/northpoint_lizard/bleached/tiled_360m/20240226/loc001.tif',\n",
       " '/mnt/class_data/group3_remotesensing/mariamayad/planet_superdove/northpoint_lizard/bleached/tiled_360m/20240313/loc001.tif',\n",
       " '/mnt/class_data/group3_remotesensing/mariamayad/planet_superdove/northpoint_lizard/bleached/tiled_360m/20240330/loc001.tif',\n",
       " '/mnt/class_data/group3_remotesensing/mariamayad/planet_superdove/northpoint_lizard/bleached/tiled_360m/20240403/loc001.tif',\n",
       " '/mnt/class_data/group3_remotesensing/mariamayad/planet_superdove/northpoint_lizard/bleached/tiled_360m/20240308/loc001.tif',\n",
       " '/mnt/class_data/group3_remotesensing/mariamayad/planet_superdove/northpoint_lizard/bleached/tiled_360m/20240404/loc001.tif',\n",
       " '/mnt/class_data/group3_remotesensing/mariamayad/planet_superdove/northpoint_lizard/bleached/tiled_360m/20240314/loc001.tif',\n",
       " '/mnt/class_data/group3_remotesensing/mariamayad/planet_superdove/northpoint_lizard/bleached/tiled_360m/20240312/loc001.tif',\n",
       " '/mnt/class_data/group3_remotesensing/mariamayad/planet_superdove/northpoint_lizard/bleached/tiled_360m/20240331/loc001.tif',\n",
       " '/mnt/class_data/group3_remotesensing/mariamayad/planet_superdove/northpoint_lizard/bleached/tiled_360m/20240315/loc001.tif',\n",
       " '/mnt/class_data/group3_remotesensing/mariamayad/planet_superdove/northpoint_lizard/bleached/tiled_360m/20240229/loc001.tif']"
      ]
     },
     "execution_count": 34,
     "metadata": {},
     "output_type": "execute_result"
    }
   ],
   "source": [
    "train_filepaths[label]"
   ]
  },
  {
   "cell_type": "code",
   "execution_count": 27,
   "metadata": {},
   "outputs": [],
   "source": [
    "train_files = train_filepaths['bleached'] + train_filepaths['healthy']\n",
    "val_files = val_filepaths['bleached'] + val_filepaths['healthy']+test_filepaths['bleached'] + test_filepaths['healthy']\n",
    "train_df = df.query('filepath in @train_files')\n",
    "val_df = df.query('filepath in @val_files')\n",
    "val_df.to_csv('/home/Mariam/codes/ct_classifier/data/split_temporal/val.csv')\n",
    "train_df.to_csv('/home/Mariam/codes/ct_classifier/data/split_temporal/train.csv')"
   ]
  },
  {
   "cell_type": "code",
   "execution_count": 7,
   "metadata": {},
   "outputs": [],
   "source": [
    "#val_df = df.query('filepath in @temp_files')\n",
    "#train_df = df.query('filepath in @temp_files')\n",
    "#train_df['image_id'] = range(len(train_df))\n",
    "val_df = pd.read_csv('/home/Mariam/codes/ct_classifier/data/split_temporal/val.csv')\n",
    "\n",
    "sites = val_df.site.unique()\n",
    "image_couples = []\n",
    "couple_labels = []\n",
    "for site in sites:\n",
    "    site_df = val_df[val_df.site==site]\n",
    "    locations = site_df.filename.unique()\n",
    "    for location_name in locations:\n",
    "        #location_name = locations[0]\n",
    "        location_df = site_df[site_df.filename == location_name]\n",
    "        healthy_df = location_df[location_df.label=='healthy']\n",
    "        for i, healthy_entry in healthy_df.iterrows(): # go over all healthy image within a specific location within a specific site\n",
    "            for j, query_entry in location_df.iterrows(): # match them with any other image from that location in that site (aside from themselves)\n",
    "                if healthy_entry.image_id != query_entry.image_id:\n",
    "                    new_couple = (healthy_entry.image_id, query_entry.image_id) # create new image pair of one healthy image and another query\n",
    "                    new_label = query_entry.label\n",
    "                    image_couples.append(new_couple)\n",
    "                    couple_labels.append(new_label)\n",
    "                \n",
    "\n"
   ]
  },
  {
   "cell_type": "code",
   "execution_count": 68,
   "metadata": {},
   "outputs": [
    {
     "data": {
      "text/plain": [
       "label\n",
       "bleached    42\n",
       "healthy     20\n",
       "Name: count, dtype: int64"
      ]
     },
     "execution_count": 68,
     "metadata": {},
     "output_type": "execute_result"
    }
   ],
   "source": [
    "p_ds = pd.DataFrame({'couple':image_couples, 'label':couple_labels})\n",
    "p_ds.label.value_counts()\n",
    "#len(set(image_couples))"
   ]
  },
  {
   "cell_type": "code",
   "execution_count": 48,
   "metadata": {},
   "outputs": [
    {
     "data": {
      "text/html": [
       "<div>\n",
       "<style scoped>\n",
       "    .dataframe tbody tr th:only-of-type {\n",
       "        vertical-align: middle;\n",
       "    }\n",
       "\n",
       "    .dataframe tbody tr th {\n",
       "        vertical-align: top;\n",
       "    }\n",
       "\n",
       "    .dataframe thead th {\n",
       "        text-align: right;\n",
       "    }\n",
       "</style>\n",
       "<table border=\"1\" class=\"dataframe\">\n",
       "  <thead>\n",
       "    <tr style=\"text-align: right;\">\n",
       "      <th></th>\n",
       "      <th>site</th>\n",
       "      <th>label</th>\n",
       "      <th>date</th>\n",
       "      <th>filename</th>\n",
       "      <th>filepath</th>\n",
       "      <th>image_id</th>\n",
       "    </tr>\n",
       "  </thead>\n",
       "  <tbody>\n",
       "    <tr>\n",
       "      <th>0</th>\n",
       "      <td>cheeca_flkeys</td>\n",
       "      <td>healthy</td>\n",
       "      <td>20230504</td>\n",
       "      <td>loc005.tif</td>\n",
       "      <td>/mnt/class_data/group3_remotesensing/mariamaya...</td>\n",
       "      <td>0</td>\n",
       "    </tr>\n",
       "    <tr>\n",
       "      <th>12</th>\n",
       "      <td>cheeca_flkeys</td>\n",
       "      <td>healthy</td>\n",
       "      <td>20230605</td>\n",
       "      <td>loc005.tif</td>\n",
       "      <td>/mnt/class_data/group3_remotesensing/mariamaya...</td>\n",
       "      <td>6</td>\n",
       "    </tr>\n",
       "    <tr>\n",
       "      <th>24</th>\n",
       "      <td>cheeca_flkeys</td>\n",
       "      <td>healthy</td>\n",
       "      <td>20230328</td>\n",
       "      <td>loc005.tif</td>\n",
       "      <td>/mnt/class_data/group3_remotesensing/mariamaya...</td>\n",
       "      <td>12</td>\n",
       "    </tr>\n",
       "    <tr>\n",
       "      <th>30</th>\n",
       "      <td>cheeca_flkeys</td>\n",
       "      <td>healthy</td>\n",
       "      <td>20240523</td>\n",
       "      <td>loc005.tif</td>\n",
       "      <td>/mnt/class_data/group3_remotesensing/mariamaya...</td>\n",
       "      <td>18</td>\n",
       "    </tr>\n",
       "    <tr>\n",
       "      <th>36</th>\n",
       "      <td>cheeca_flkeys</td>\n",
       "      <td>healthy</td>\n",
       "      <td>20240311</td>\n",
       "      <td>loc005.tif</td>\n",
       "      <td>/mnt/class_data/group3_remotesensing/mariamaya...</td>\n",
       "      <td>24</td>\n",
       "    </tr>\n",
       "    <tr>\n",
       "      <th>42</th>\n",
       "      <td>cheeca_flkeys</td>\n",
       "      <td>healthy</td>\n",
       "      <td>20230114</td>\n",
       "      <td>loc005.tif</td>\n",
       "      <td>/mnt/class_data/group3_remotesensing/mariamaya...</td>\n",
       "      <td>30</td>\n",
       "    </tr>\n",
       "    <tr>\n",
       "      <th>54</th>\n",
       "      <td>cheeca_flkeys</td>\n",
       "      <td>bleached</td>\n",
       "      <td>20230730</td>\n",
       "      <td>loc005.tif</td>\n",
       "      <td>/mnt/class_data/group3_remotesensing/mariamaya...</td>\n",
       "      <td>36</td>\n",
       "    </tr>\n",
       "    <tr>\n",
       "      <th>66</th>\n",
       "      <td>cheeca_flkeys</td>\n",
       "      <td>bleached</td>\n",
       "      <td>20230817</td>\n",
       "      <td>loc005.tif</td>\n",
       "      <td>/mnt/class_data/group3_remotesensing/mariamaya...</td>\n",
       "      <td>42</td>\n",
       "    </tr>\n",
       "    <tr>\n",
       "      <th>72</th>\n",
       "      <td>cheeca_flkeys</td>\n",
       "      <td>bleached</td>\n",
       "      <td>20230801</td>\n",
       "      <td>loc005.tif</td>\n",
       "      <td>/mnt/class_data/group3_remotesensing/mariamaya...</td>\n",
       "      <td>48</td>\n",
       "    </tr>\n",
       "    <tr>\n",
       "      <th>78</th>\n",
       "      <td>cheeca_flkeys</td>\n",
       "      <td>bleached</td>\n",
       "      <td>20230825</td>\n",
       "      <td>loc005.tif</td>\n",
       "      <td>/mnt/class_data/group3_remotesensing/mariamaya...</td>\n",
       "      <td>54</td>\n",
       "    </tr>\n",
       "    <tr>\n",
       "      <th>84</th>\n",
       "      <td>cheeca_flkeys</td>\n",
       "      <td>bleached</td>\n",
       "      <td>20230809</td>\n",
       "      <td>loc005.tif</td>\n",
       "      <td>/mnt/class_data/group3_remotesensing/mariamaya...</td>\n",
       "      <td>60</td>\n",
       "    </tr>\n",
       "    <tr>\n",
       "      <th>90</th>\n",
       "      <td>cheeca_flkeys</td>\n",
       "      <td>bleached</td>\n",
       "      <td>20230806</td>\n",
       "      <td>loc005.tif</td>\n",
       "      <td>/mnt/class_data/group3_remotesensing/mariamaya...</td>\n",
       "      <td>66</td>\n",
       "    </tr>\n",
       "  </tbody>\n",
       "</table>\n",
       "</div>"
      ],
      "text/plain": [
       "             site     label      date    filename  \\\n",
       "0   cheeca_flkeys   healthy  20230504  loc005.tif   \n",
       "12  cheeca_flkeys   healthy  20230605  loc005.tif   \n",
       "24  cheeca_flkeys   healthy  20230328  loc005.tif   \n",
       "30  cheeca_flkeys   healthy  20240523  loc005.tif   \n",
       "36  cheeca_flkeys   healthy  20240311  loc005.tif   \n",
       "42  cheeca_flkeys   healthy  20230114  loc005.tif   \n",
       "54  cheeca_flkeys  bleached  20230730  loc005.tif   \n",
       "66  cheeca_flkeys  bleached  20230817  loc005.tif   \n",
       "72  cheeca_flkeys  bleached  20230801  loc005.tif   \n",
       "78  cheeca_flkeys  bleached  20230825  loc005.tif   \n",
       "84  cheeca_flkeys  bleached  20230809  loc005.tif   \n",
       "90  cheeca_flkeys  bleached  20230806  loc005.tif   \n",
       "\n",
       "                                             filepath  image_id  \n",
       "0   /mnt/class_data/group3_remotesensing/mariamaya...         0  \n",
       "12  /mnt/class_data/group3_remotesensing/mariamaya...         6  \n",
       "24  /mnt/class_data/group3_remotesensing/mariamaya...        12  \n",
       "30  /mnt/class_data/group3_remotesensing/mariamaya...        18  \n",
       "36  /mnt/class_data/group3_remotesensing/mariamaya...        24  \n",
       "42  /mnt/class_data/group3_remotesensing/mariamaya...        30  \n",
       "54  /mnt/class_data/group3_remotesensing/mariamaya...        36  \n",
       "66  /mnt/class_data/group3_remotesensing/mariamaya...        42  \n",
       "72  /mnt/class_data/group3_remotesensing/mariamaya...        48  \n",
       "78  /mnt/class_data/group3_remotesensing/mariamaya...        54  \n",
       "84  /mnt/class_data/group3_remotesensing/mariamaya...        60  \n",
       "90  /mnt/class_data/group3_remotesensing/mariamaya...        66  "
      ]
     },
     "execution_count": 48,
     "metadata": {},
     "output_type": "execute_result"
    }
   ],
   "source": [
    "location_df"
   ]
  },
  {
   "cell_type": "code",
   "execution_count": 9,
   "metadata": {},
   "outputs": [],
   "source": [
    "import rasterio\n",
    "import torch\n",
    "couple = image_couples[0]\n",
    "idxs = couple\n",
    "imgs = []\n",
    "for idx in idxs:\n",
    "    filepath = val_df.query('image_id==@idx').filepath.values[0]\n",
    "    with rasterio.open(filepath, mode='r') as ds:\n",
    "        img = ds.read()\n",
    "    imgs.append(img)\n",
    "#filepath2 = val_df.query('image_id==@image_idx2').filepath.values[0]"
   ]
  },
  {
   "cell_type": "code",
   "execution_count": 10,
   "metadata": {},
   "outputs": [
    {
     "data": {
      "text/plain": [
       "(16, 125, 126)"
      ]
     },
     "execution_count": 10,
     "metadata": {},
     "output_type": "execute_result"
    }
   ],
   "source": [
    "img = np.concat(imgs)\n",
    "img.shape"
   ]
  },
  {
   "cell_type": "code",
   "execution_count": 19,
   "metadata": {},
   "outputs": [
    {
     "data": {
      "text/plain": [
       "torch.Size([1, 16, 120, 120])"
      ]
     },
     "execution_count": 19,
     "metadata": {},
     "output_type": "execute_result"
    }
   ],
   "source": [
    "from kornia.augmentation import Resize\n",
    "r = Resize((120,120),align_corners=False)\n",
    "r(torch.tensor(img,dtype=torch.float64)).shape"
   ]
  },
  {
   "cell_type": "code",
   "execution_count": 1,
   "metadata": {},
   "outputs": [
    {
     "name": "stderr",
     "output_type": "stream",
     "text": [
      "INFO:numexpr.utils:Note: NumExpr detected 32 cores but \"NUMEXPR_MAX_THREADS\" not set, so enforcing safe limit of 16.\n",
      "INFO:numexpr.utils:NumExpr defaulting to 16 threads.\n"
     ]
    }
   ],
   "source": [
    "import sys\n",
    "sys.path.append('/home/Mariam/codes/ct_classifier/ct_classifier')\n",
    "from dataset import BleachDataset"
   ]
  },
  {
   "cell_type": "code",
   "execution_count": null,
   "metadata": {},
   "outputs": [],
   "source": []
  },
  {
   "cell_type": "code",
   "execution_count": 2,
   "metadata": {},
   "outputs": [],
   "source": [
    "import yaml\n",
    "from train import create_dataloader\n",
    "cfg = yaml.safe_load(open('/home/Mariam/codes/ct_classifier/configs/exp_resnet18.yaml', 'r'))\n",
    "dl_train = create_dataloader(cfg, split='train')\n"
   ]
  },
  {
   "cell_type": "code",
   "execution_count": 3,
   "metadata": {},
   "outputs": [
    {
     "data": {
      "text/plain": [
       "torch.Size([128, 1, 16, 120, 120])"
      ]
     },
     "execution_count": 3,
     "metadata": {},
     "output_type": "execute_result"
    }
   ],
   "source": [
    "batch = next(iter(dl_train))\n",
    "batch[0].shape"
   ]
  },
  {
   "cell_type": "code",
   "execution_count": null,
   "metadata": {},
   "outputs": [
    {
     "data": {
      "text/plain": [
       "torch.Size([1, 126, 120, 120])"
      ]
     },
     "execution_count": 4,
     "metadata": {},
     "output_type": "execute_result"
    }
   ],
   "source": []
  },
  {
   "cell_type": "code",
   "execution_count": 4,
   "metadata": {},
   "outputs": [
    {
     "data": {
      "text/plain": [
       "(100,)"
      ]
     },
     "execution_count": 4,
     "metadata": {},
     "output_type": "execute_result"
    }
   ],
   "source": []
  },
  {
   "cell_type": "code",
   "execution_count": 5,
   "metadata": {},
   "outputs": [
    {
     "data": {
      "text/plain": [
       "(1, 100)"
      ]
     },
     "execution_count": 5,
     "metadata": {},
     "output_type": "execute_result"
    }
   ],
   "source": []
  },
  {
   "cell_type": "code",
   "execution_count": null,
   "metadata": {},
   "outputs": [],
   "source": []
  }
 ],
 "metadata": {
  "kernelspec": {
   "display_name": "cv4ecology",
   "language": "python",
   "name": "python3"
  },
  "language_info": {
   "codemirror_mode": {
    "name": "ipython",
    "version": 3
   },
   "file_extension": ".py",
   "mimetype": "text/x-python",
   "name": "python",
   "nbconvert_exporter": "python",
   "pygments_lexer": "ipython3",
   "version": "3.9.21"
  }
 },
 "nbformat": 4,
 "nbformat_minor": 2
}
