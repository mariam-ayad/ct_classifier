{
 "cells": [
  {
   "cell_type": "code",
   "execution_count": null,
   "metadata": {
    "vscode": {
     "languageId": "plaintext"
    }
   },
   "outputs": [],
   "source": [
    "#list data\n",
    "import os\n",
    "\n",
    "datadir= '/mnt/class_data/group3_remotesensing/mariamayad/'\n",
    "train_sites=['cheeca_flkeys','lbcaye_bbr', 'sanagustin_mexico']\n",
    "\n",
    "val_sites=['northpoint_lizard']"
   ]
  },
  {
   "cell_type": "code",
   "execution_count": null,
   "metadata": {
    "vscode": {
     "languageId": "plaintext"
    }
   },
   "outputs": [],
   "source": [
    "for sites in train_sites:\n",
    "    "
   ]
  }
 ],
 "metadata": {
  "language_info": {
   "name": "python"
  }
 },
 "nbformat": 4,
 "nbformat_minor": 2
}
